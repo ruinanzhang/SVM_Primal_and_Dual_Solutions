{
 "cells": [
  {
   "cell_type": "markdown",
   "metadata": {},
   "source": [
    "# Support Vector Machines (SVM) - Hard Margin Case\n",
    "---\n",
    "Recall the binary classification problem that SVMs try to solve. The hard margin SVM finds the seperating decision bounary with the largest margin. \n",
    "\n",
    "<img src=\"MaxMargin.jpg\" height=\"400\" width=\"400\">\n",
    "\n",
    "In this assigment, you will write the code to find the maximum margin for the hard margin case.\n",
    "\n",
    "We showed in class that we could solve this problem  by reducing it to the problem of solving a quadratic programming problem (QP).  There are many solvers for quadratic programming problems. We will use the *Convex Optimization Library*, [CVXOPT](https://cvxopt.org/userguide/coneprog.html#quadratic-programming); a free software package that works well with Python and numpy. \n",
    "You will need to install [CVXOPT](https://cvxopt.org/install/)\n",
    "\n",
    "In CVXOPT, the quadratic programming problem solver, <b><i>cvxopt.solvers.qp</i></b>,  solves the following problem:\n",
    "\n",
    "$$\\begin{eqnarray} \\min_{x}\\frac{1}{2} x^{T}Px - q^{T}x \\nonumber \\\\\\ \\textrm{s.t.}\\quad Gx \\preceq h \\\\\\ \\textrm{and}\\quad Ax = b \\end{eqnarray}$$\n",
    "\n",
    " Note that $ Gx \\preceq h $ is taken elementwise. \n",
    "\n",
    "The solver's (simplified) API is `cvxopt.solvers.qp(P, q, G, h, A, b)` \n",
    "where only $P$ and $q$ are required. \n",
    "\n",
    "You will need to match the solver's API.\n",
    "\n",
    "The solver's argument's type must be CVXOPT matrices.  Please look at this [link](https://courses.csail.mit.edu/6.867/wiki/images/a/a7/Qp-cvxopt.pdf) for more information. I suggest you first create the arguments as NumpPy arrays and matrices and then convert them to CVXOPT matrices (For example, first import the library: `from cvxopt import matrix` then convert a NumPy matrix `P` to a CVXOPT matrix using ` P = matrix(P)`)\n",
    "\n",
    "What is return by the solver  is a Python dictionary.  If you save the return value in a variable called `sol` (i.e. `sol = solvers.qp(...)`), you can access to the solution of the quadratic programming problem by typing `sol[\"x\"]`."
   ]
  },
  {
   "cell_type": "markdown",
   "metadata": {},
   "source": [
    "# Hard Margin Case"
   ]
  },
  {
   "cell_type": "markdown",
   "metadata": {},
   "source": [
    " We will use synthetic data. The following code will reads the linearly sepearable data and plots the points.\n"
   ]
  },
  {
   "cell_type": "code",
   "execution_count": 22,
   "metadata": {},
   "outputs": [
    {
     "name": "stdout",
     "output_type": "stream",
     "text": [
      "Requirement already satisfied: cvxopt in /usr/local/lib/python3.7/site-packages (1.2.5)\r\n"
     ]
    }
   ],
   "source": [
    "!pip3 install cvxopt"
   ]
  },
  {
   "cell_type": "code",
   "execution_count": 23,
   "metadata": {},
   "outputs": [],
   "source": [
    "from cvxopt import matrix"
   ]
  },
  {
   "cell_type": "code",
   "execution_count": 24,
   "metadata": {},
   "outputs": [
    {
     "data": {
      "image/png": "[encoded data removed]",
      "text/plain": [
       "<Figure size 1080x648 with 1 Axes>"
      ]
     },
     "metadata": {
      "needs_background": "light"
     },
     "output_type": "display_data"
    }
   ],
   "source": [
    "import numpy as np\n",
    "import csv\n",
    "from numpy import genfromtxt\n",
    "import matplotlib.pyplot as plt\n",
    "%matplotlib inline\n",
    "\n",
    "\n",
    "X = genfromtxt('X.csv', delimiter=',') # reading in the data matrix\n",
    "y = genfromtxt('y.csv', delimiter=',') # reading in the labels\n",
    "idx_1 = np.where(y == 1)\n",
    "idx_0 = np.where(y == -1)\n",
    "\n",
    "plt.figure(figsize=(15,9))\n",
    "plt.scatter(X[idx_1,0], X[idx_1,1], s=30, c='b', marker=\"o\")\n",
    "plt.scatter(X[idx_0,0], X[idx_0,1], s=30, c='r', marker=\"o\")\n",
    "plt.xlabel('x1')\n",
    "plt.ylabel('x2');\n",
    "\n",
    "plt.show()"
   ]
  },
  {
   "cell_type": "markdown",
   "metadata": {},
   "source": [
    "## SVM Primal  Problem\n",
    "---\n",
    "### Problem 1.1\n",
    "\n",
    "You will now use the quadratic problem solver to find the maximum margin for the SVM primal problem:\n",
    "\n",
    "$$\\begin{eqnarray}\\left.\\begin{aligned}  \n",
    "&\\min_{w}\\frac{1}{2}||w||^{2} & \\nonumber \\\\\\ \n",
    "&\\textrm{s.t.}  \\quad y^{(i)}(w^{T}{\\bf x}^{(i)} + w_0) \\ge 1 \\quad \\forall i \\end{aligned}\\right.\\end{eqnarray}$$\n",
    "\n",
    "\n",
    "Look back at the lecture notes for the primal problem.  Please note that the variable names used in the lecture are different from the variable names given to decribe the API for CVXOPT's quadratic problem solver.\n"
   ]
  },
  {
   "cell_type": "markdown",
   "metadata": {},
   "source": [
    "\n",
    "\n",
    " Write the function `linear_svm(X, y)` that:\n",
    "- takes in as arguments the data matrix $X$ and the labels $\\bf y$ \n",
    "- solves the SVM primal QP problem \n",
    "- returns  ${\\bf w}$ and $w_0$"
   ]
  },
  {
   "cell_type": "code",
   "execution_count": 25,
   "metadata": {},
   "outputs": [
    {
     "data": {
      "text/plain": [
       "{'x': <2x1 matrix, tc='d'>,\n",
       " 'y': <1x1 matrix, tc='d'>,\n",
       " 's': <2x1 matrix, tc='d'>,\n",
       " 'z': <2x1 matrix, tc='d'>,\n",
       " 'status': 'optimal',\n",
       " 'gap': 1.0527028380515324e-07,\n",
       " 'relative gap': 5.6144154514913756e-08,\n",
       " 'primal objective': 1.8750000000000182,\n",
       " 'dual objective': 1.8749998947297344,\n",
       " 'primal infeasibility': 2.2887833992611187e-16,\n",
       " 'dual infeasibility': 5.314759333739872e-08,\n",
       " 'primal slack': 0.2500000952702476,\n",
       " 'dual slack': 1.0000000000000035e-08,\n",
       " 'iterations': 4}"
      ]
     },
     "execution_count": 25,
     "metadata": {},
     "output_type": "execute_result"
    }
   ],
   "source": [
    "from cvxopt import matrix, solvers\n",
    "Q = 2*matrix([ [2, .5], [.5, 1] ])\n",
    "p = matrix([1.0, 1.0])\n",
    "G = matrix([[-1.0,0.0],[0.0,-1.0]])\n",
    "h = matrix([0.0,0.0])\n",
    "A = matrix([1.0, 1.0], (1,2))\n",
    "b = matrix(1.0)\n",
    "sol=solvers.qp(Q, p, G, h, A, b)\n",
    "sol"
   ]
  },
  {
   "cell_type": "code",
   "execution_count": 121,
   "metadata": {},
   "outputs": [
    {
     "name": "stdout",
     "output_type": "stream",
     "text": [
      "0.2903611858996109\n",
      "[ 1.42189318 -1.58830104]\n"
     ]
    }
   ],
   "source": [
    "from cvxopt import matrix, solvers\n",
    "\n",
    "def linear_svm(X,y):\n",
    "    solvers.options['show_progress'] = False\n",
    "    NUM = X.shape[0]\n",
    "    DIM = X.shape[1]\n",
    "    K = y[:, None] * X\n",
    "    K = np.dot(K, K.T)\n",
    "    P = matrix(K)\n",
    "    q = matrix(-np.ones((NUM, 1)))\n",
    "    G = matrix(-np.eye(NUM))\n",
    "    h = matrix(np.zeros(NUM))\n",
    "    A = matrix(y.reshape(1, -1))\n",
    "    b = matrix(np.zeros(1))\n",
    "    result = solvers.qp(P, q, G, h, A, b)\n",
    "    alphas = np.array(result['x'])\n",
    "    w = np.sum(alphas * y[:, None] * X, axis = 0)\n",
    "    cond = (alphas > 1e-4).reshape(-1)\n",
    "    b = y[cond] - np.dot(X[cond], w)\n",
    "    bias = b[0]\n",
    "    w0 = -b/w[1]\n",
    "    slope = -w[0] / w[1]\n",
    "    intercept = -bias/w[1]\n",
    "\n",
    "    print(w0[0])\n",
    "    print(w)\n",
    "    return (slope,intercept)\n",
    "\n",
    "# fit svm classifier\n",
    "(slope,intercept) = linear_svm(X, y)"
   ]
  },
  {
   "cell_type": "code",
   "execution_count": 101,
   "metadata": {},
   "outputs": [
    {
     "name": "stdout",
     "output_type": "stream",
     "text": [
      "w =  [[ 1.42213498 -1.58793349]]\n",
      "b =  [0.45994417]\n",
      "Coef= [[2.27212022 1.02021808 1.25190214]]\n"
     ]
    }
   ],
   "source": [
    "#compared with svc\n",
    "from sklearn.svm import SVC\n",
    "clf = SVC(C = 100, kernel = 'linear')\n",
    "clf.fit(X, y.ravel()) \n",
    "\n",
    "print('w = ',clf.coef_)\n",
    "print('b = ',clf.intercept_)\n",
    "print('Coef=', np.abs(clf.dual_coef_))"
   ]
  },
  {
   "cell_type": "markdown",
   "metadata": {},
   "source": [
    "### Plotting the classification decision boundary"
   ]
  },
  {
   "cell_type": "code",
   "execution_count": 65,
   "metadata": {},
   "outputs": [
    {
     "data": {
      "image/png": "[encoded data removed]",
      "text/plain": [
       "<Figure size 1080x648 with 1 Axes>"
      ]
     },
     "metadata": {
      "needs_background": "light"
     },
     "output_type": "display_data"
    }
   ],
   "source": [
    "def plot_data_with_classification_boundary(X, y, w, w0, fig_size=(15, 9), labels=['x1', 'x2']):\n",
    "    COLORS = ['blue', 'red']\n",
    "    unique = np.unique(y)\n",
    "    \n",
    "\n",
    "\n",
    "    idx_1 = np.where(y == 1)\n",
    "    idx_0 = np.where(y == -1)\n",
    "\n",
    "    plt.figure(figsize=(15,9))\n",
    "    plt.scatter(X[idx_1,0], X[idx_1,1], s=30, c='b', marker=\"o\")\n",
    "    plt.scatter(X[idx_0,0], X[idx_0,1], s=10, c='r', marker=\"o\")\n",
    "    plt.xlabel('x1')\n",
    "    plt.ylabel('x2');\n",
    "        \n",
    "            \n",
    "    x = np.arange(0, 6)\n",
    "    plt.plot(x, x * slope + intercept, 'k-')\n",
    "    \n",
    "    plt.grid()\n",
    "\n",
    "# plotting the points and decision boundary   \n",
    "plot_data_with_classification_boundary(X, y, w, w0)"
   ]
  },
  {
   "cell_type": "markdown",
   "metadata": {},
   "source": [
    "### Problem 1.2 \n",
    "Determine which points are closest to the decision boundary. What is the functional margin of the points closest to the decision boundary?   "
   ]
  },
  {
   "cell_type": "code",
   "execution_count": 66,
   "metadata": {},
   "outputs": [
    {
     "name": "stdout",
     "output_type": "stream",
     "text": [
      "(0.7780984132944906, 3.0801230761218346)\n"
     ]
    }
   ],
   "source": [
    "def dist(slope,intercept,x,y):\n",
    "    abssum = abs(slope*x-1+intercept)\n",
    "    sqrtsum = np.sqrt(slope**2+1)\n",
    "    return abssum/sqrtsum\n",
    "distance = 999\n",
    "for (xx,yy) in X:\n",
    "    newdist = dist(slope,intercept,xx,yy)\n",
    "    if newdist<distance:\n",
    "        distance = newdist\n",
    "        point = (xx,yy)\n",
    "print(point)\n",
    "    "
   ]
  },
  {
   "cell_type": "markdown",
   "metadata": {},
   "source": [
    "### Problem 1.3\n",
    "\n",
    "Write the decision function $f_{\\texttt{primal}}({\\bf x})$ to predict examples.  Use this function to predict the label of $(3.0, 1.5)^T$ and $(1.2, 3.0)^T$"
   ]
  },
  {
   "cell_type": "code",
   "execution_count": 69,
   "metadata": {},
   "outputs": [],
   "source": [
    "def f_primal(xx,yy):\n",
    "    ## your code \n",
    "    if (-0.8952290161138343 *xx +yy - 0.29036119198769617)>0:\n",
    "        return 1\n",
    "    else:\n",
    "        return -1\n",
    "\n",
    "# write the code to predict (3.0, 1.5)^T and (1.2, 3.0)^T here"
   ]
  },
  {
   "cell_type": "code",
   "execution_count": 71,
   "metadata": {},
   "outputs": [
    {
     "data": {
      "text/plain": [
       "-1"
      ]
     },
     "execution_count": 71,
     "metadata": {},
     "output_type": "execute_result"
    }
   ],
   "source": [
    "f_primal(3.0,1.5)\n"
   ]
  },
  {
   "cell_type": "code",
   "execution_count": 72,
   "metadata": {},
   "outputs": [
    {
     "data": {
      "text/plain": [
       "1"
      ]
     },
     "execution_count": 72,
     "metadata": {},
     "output_type": "execute_result"
    }
   ],
   "source": [
    "f_primal(1.2,3.0)"
   ]
  },
  {
   "cell_type": "markdown",
   "metadata": {},
   "source": [
    "## SVM Dual Problem\n",
    "\n",
    "---\n",
    "\n",
    "To keep things simple, we will use a linear kernel $K({\\bf x}^{(i)}, {\\bf x}^{(j)})={\\bf x}^{(i)T}{\\bf x}^{(j)}$.  In the statement of the problem below, I replaced ${\\bf x}^{(i)}$ with $\\phi({\\bf x}^{(i)})$ as was done in the lecture notes.\n",
    "\n",
    "### Problem 2.1\n",
    "The SVM dual problem was derived in class by:\n",
    "- defining the lagrangian of the Primary problem: $L = \\frac{1}{2}||w||^{2} - \\sum_{i} \\alpha^{(i)} [y^{(i)}(w^{T}\\phi({\\bf x}^{(i)}) + w_0)-1]$\n",
    "- equating it's partial derivatives with respect to $w$ and $w_0$ to zero, and \n",
    "- substituting $w$ back into the lagrangian.\n",
    "\n",
    "It resulted in a quadratic programming problem (QP) of the following form:\n",
    "\n",
    "$$\\begin{eqnarray}\\left.\\begin{aligned}  \n",
    "&\\min_{\\alpha}\\frac{1}{2} \\alpha^{T}Q\\alpha - 1^{T}\\alpha \\nonumber \\\\\\ &\\textrm{s.t.}\\quad \\alpha_{i} \\ge 0 \\quad \\forall i \\\\\\ \n",
    "&\\:\\:\\:\\:\\:\\quad y^{T}\\alpha = 0 \\end{aligned}\\right.\\end{eqnarray}$$\n",
    "\n"
   ]
  },
  {
   "cell_type": "markdown",
   "metadata": {},
   "source": [
    "\n",
    " Write the function `kernel_svm(x, y)`that:\n",
    "- takes in as arguments: the data matrix $X$, the labels $y$ \n",
    "- solves the SVM dual QP problem using a linear kernel\n",
    "- returns:  ${\\bf \\alpha}$"
   ]
  },
  {
   "cell_type": "code",
   "execution_count": 73,
   "metadata": {},
   "outputs": [
    {
     "name": "stdout",
     "output_type": "stream",
     "text": [
      "w =  [[ 1.42213498 -1.58793349]]\n",
      "b =  [0.45994417]\n",
      "Indices of support vectors =  [68 25 49]\n",
      "Support vectors =  [[1.71138733 2.45204836]\n",
      " [2.11457352 1.5537852 ]\n",
      " [2.51879639 1.91565724]]\n",
      "Number of support vectors for each class =  [1 2]\n",
      "Coefficients of the support vector in the decision function =  [[2.27212022 1.02021808 1.25190214]]\n"
     ]
    }
   ],
   "source": [
    "from sklearn.svm import SVC\n",
    "clf = SVC(C = 10, kernel = 'linear')\n",
    "clf.fit(X, y.ravel()) \n",
    "\n",
    "print('w = ',clf.coef_)\n",
    "print('b = ',clf.intercept_)\n",
    "print('Indices of support vectors = ', clf.support_)\n",
    "print('Support vectors = ', clf.support_vectors_)\n",
    "print('Number of support vectors for each class = ', clf.n_support_)\n",
    "print('Coefficients of the support vector in the decision function = ', np.abs(clf.dual_coef_))"
   ]
  },
  {
   "cell_type": "code",
   "execution_count": null,
   "metadata": {},
   "outputs": [],
   "source": [
    "P = cvxopt_matrix(H)\n",
    "q = cvxopt_matrix(-np.ones((m, 1)))\n",
    "G = cvxopt_matrix(-np.eye(m))\n",
    "h = cvxopt_matrix(np.zeros(m))\n",
    "A = cvxopt_matrix(y.reshape(1, -1))\n",
    "b = cvxopt_matrix(np.zeros(1))"
   ]
  },
  {
   "cell_type": "code",
   "execution_count": 123,
   "metadata": {
    "scrolled": true
   },
   "outputs": [],
   "source": [
    "def kernel_svm(X, y): \n",
    "    solvers.options['show_progress'] = False\n",
    "    NUM = X.shape[0]\n",
    "    DIM = X.shape[1]\n",
    "    K = y[:, None] * X\n",
    "    K = np.dot(K, K.T)\n",
    "    P = matrix(K)\n",
    "    q = matrix(-np.ones((NUM, 1)))\n",
    "    G = matrix(-np.eye(NUM))\n",
    "    h = matrix(np.zeros(NUM))\n",
    "    A = matrix(y.reshape(1, -1))\n",
    "    b = matrix(np.zeros(1))\n",
    "\n",
    "    result = solvers.qp(P, q, G, h, A, b)\n",
    "    alphas = np.array(result['x'])\n",
    "    return alphas\n",
    "\n",
    "# fit svm dual classifier\n",
    "alphas = kernel_svm(X, y)"
   ]
  },
  {
   "cell_type": "markdown",
   "metadata": {},
   "source": [
    "Treat any $\\alpha^{(i)} \\le 1/1000$ as $0$.\n",
    "\n",
    "### problem 2.2 \n",
    "\n",
    "Write a function `compute_w (X, y, alpha)` that: \n",
    "- takes in as arguments the data matrix $X$, labels ${\\bf y}$, and ${\\bf \\alpha}$ \n",
    "- returns ${\\bf w}$ and $w_0$ \n",
    "\n",
    "Compare this ${\\bf w}$ and $w_0$ computed by the dual with the ${\\bf w}$ and $w_0$ computed by the primal"
   ]
  },
  {
   "cell_type": "code",
   "execution_count": 130,
   "metadata": {},
   "outputs": [],
   "source": [
    "m,n = X.shape\n",
    "y = y.reshape(-1,1) * 1.\n",
    "X_dash = y * X\n",
    "H = np.dot(X_dash , X_dash.T) * 1.\n",
    "\n",
    "#Converting into cvxopt format\n",
    "P = matrix(H)\n",
    "q = matrix(-np.ones((m, 1)))\n",
    "G = matrix(-np.eye(m))\n",
    "h = matrix(np.zeros(m))\n",
    "A = matrix(y.reshape(1, -1))\n",
    "b = matrix(np.zeros(1))\n",
    "\n",
    "#Run solver\n",
    "sol = solvers.qp(P, q, G, h, A, b)\n",
    "alphas = np.array(sol['x'])"
   ]
  },
  {
   "cell_type": "code",
   "execution_count": 131,
   "metadata": {},
   "outputs": [
    {
     "data": {
      "text/plain": [
       "array([1.02105591, 1.25118429, 2.27224021])"
      ]
     },
     "execution_count": 131,
     "metadata": {},
     "output_type": "execute_result"
    }
   ],
   "source": [
    "alphas[alphas > 1e-4]"
   ]
  },
  {
   "cell_type": "code",
   "execution_count": 179,
   "metadata": {
    "scrolled": true
   },
   "outputs": [],
   "source": [
    "def compute_classification_boundary (X, y, alpha):\n",
    "    ## Write your code here\n",
    "    \n",
    "    w = ((y * alphas).T @ X).reshape(-1,1)\n",
    "    S = (alphas > 1e-4).flatten()\n",
    "    b = y[S] - np.dot(X[S], w)\n",
    "    \n",
    "    ##\n",
    "    return w, b\n",
    "\n",
    "\n",
    "\n",
    "w, w0 = compute_classification_boundary(X, y, alphas)"
   ]
  },
  {
   "cell_type": "code",
   "execution_count": 136,
   "metadata": {},
   "outputs": [
    {
     "data": {
      "image/png": "[encoded data removed]",
      "text/plain": [
       "<Figure size 1080x648 with 1 Axes>"
      ]
     },
     "metadata": {
      "needs_background": "light"
     },
     "output_type": "display_data"
    }
   ],
   "source": [
    "plot_data_with_classification_boundary(X, y, w, w0)"
   ]
  },
  {
   "cell_type": "markdown",
   "metadata": {},
   "source": [
    "### Problem 2.3 \n",
    "\n",
    "Write the code to determine which of the training examples are support vectors.  Write the code to determine the functional margin of the support vectors."
   ]
  },
  {
   "cell_type": "code",
   "execution_count": 174,
   "metadata": {},
   "outputs": [
    {
     "data": {
      "text/plain": [
       "[25, 49, 68]"
      ]
     },
     "execution_count": 174,
     "metadata": {},
     "output_type": "execute_result"
    }
   ],
   "source": [
    "res = [i for i, val in enumerate(np.array(alphas > 1e-4) ==True) if val]\n",
    "res"
   ]
  },
  {
   "cell_type": "code",
   "execution_count": 182,
   "metadata": {},
   "outputs": [
    {
     "data": {
      "text/plain": [
       "(array([2.11457352, 1.5537852 ]), array([1.]))"
      ]
     },
     "execution_count": 182,
     "metadata": {},
     "output_type": "execute_result"
    }
   ],
   "source": [
    "X[25],y[25]"
   ]
  },
  {
   "cell_type": "code",
   "execution_count": 183,
   "metadata": {},
   "outputs": [
    {
     "data": {
      "text/plain": [
       "(array([2.51879639, 1.91565724]), array([1.]))"
      ]
     },
     "execution_count": 183,
     "metadata": {},
     "output_type": "execute_result"
    }
   ],
   "source": [
    "X[49],y[49]"
   ]
  },
  {
   "cell_type": "code",
   "execution_count": 184,
   "metadata": {},
   "outputs": [
    {
     "data": {
      "text/plain": [
       "(array([1.71138733, 2.45204836]), array([-1.]))"
      ]
     },
     "execution_count": 184,
     "metadata": {},
     "output_type": "execute_result"
    }
   ],
   "source": [
    "X[68],y[68]"
   ]
  },
  {
   "cell_type": "markdown",
   "metadata": {},
   "source": [
    "### Problem 2.4\n",
    "\n",
    "Write the decision function $f_{\\texttt{dual}}({\\bf x})=\n",
    "\\left(\\sum_{i\\in I}\n",
    "\\alpha^{(i)}y^{(i)}\n",
    "K({\\bf x}^{(i)},{\\bf x})\n",
    "\\right)+w_0$ \n",
    "where $I = \\{i\\mid \\alpha^{(i)}\\not = 0\\}$.  The kernel function will be the linear kernel.  Use the decision function to predict the class of $(3.0, 1.5)^T$ and $(1.2, 3.0)^T$\n"
   ]
  },
  {
   "cell_type": "code",
   "execution_count": null,
   "metadata": {},
   "outputs": [],
   "source": [
    "alpha[0]*y[25]*(x[25][0]*xx[0]+x[25][1]*xx[1])+\n",
    "alpha[1]*y[49]*(x[49][0]*xx[0]+x[49][1]*xx[1])+\n",
    "alpha[1]*y[68]*(x[68][0]*xx[0]+x[68][1]*xx[1])\n",
    "+w0[0]"
   ]
  },
  {
   "cell_type": "code",
   "execution_count": 180,
   "metadata": {},
   "outputs": [
    {
     "data": {
      "text/plain": [
       "array([[0.46118097],\n",
       "       [0.46118097],\n",
       "       [0.46118097]])"
      ]
     },
     "execution_count": 180,
     "metadata": {},
     "output_type": "execute_result"
    }
   ],
   "source": [
    "w0"
   ]
  },
  {
   "cell_type": "code",
   "execution_count": 149,
   "metadata": {},
   "outputs": [
    {
     "data": {
      "text/plain": [
       "array([12.16855789, 10.5747305 , 11.79820543, 10.47701967, 11.12516581,\n",
       "       10.30773751, 12.17273785,  9.12848126,  7.40161011,  9.39384917,\n",
       "        9.69083729, 12.99680514, 10.33824549, 10.40806864, 12.28229072,\n",
       "       12.2709685 , 10.57191892, 10.84503333, 10.1892303 , 11.41788125,\n",
       "       12.78453653, 11.47381069, 11.50376036, 10.83974198,  9.80364141,\n",
       "        8.67439837, 11.60876911, 12.30909745, 11.99545858,  8.68575854,\n",
       "       10.08359709, 12.57617972, 13.87231984, 13.83726604, 12.28165783,\n",
       "        9.9828075 , 10.31872921, 11.55892329, 12.89607166,  6.62768997,\n",
       "        6.90001242, 13.92121533, 10.26168308,  8.82682685, 11.71619706,\n",
       "        9.05201756,  9.13728871,  8.778804  , 11.65064403, 10.42987505,\n",
       "        9.20403352,  8.16447758,  6.86376274, 10.06066822,  8.39962089,\n",
       "        6.38479401,  4.9409532 ,  8.80135364,  6.13748271,  6.69296778,\n",
       "        6.95447985,  8.96277976,  8.68083473,  8.26106906,  5.3117169 ,\n",
       "        7.89068167,  9.55913952,  9.25128278,  8.81223453,  6.51300207,\n",
       "        6.86335604,  6.31260163,  6.31422302,  7.93697278,  9.70138594,\n",
       "        9.44719994,  6.78702109,  9.01009242,  8.79167791,  9.00700958,\n",
       "        9.69826122,  6.95661739,  7.96374741,  8.52389906,  8.04323779,\n",
       "        7.7166638 ,  6.98670975,  6.6255329 ,  8.0848014 ,  6.21501665,\n",
       "        6.88200392,  7.12225929,  4.02881864,  7.34649014,  6.4713476 ,\n",
       "        8.37464766, 10.34259535,  8.01332111,  7.11453156,  8.01073944])"
      ]
     },
     "execution_count": 149,
     "metadata": {},
     "output_type": "execute_result"
    }
   ],
   "source": [
    "K(X,np.array([3.0,1.5]).transpose(),)"
   ]
  },
  {
   "cell_type": "code",
   "execution_count": 234,
   "metadata": {},
   "outputs": [],
   "source": [
    "def K(xi, xj):\n",
    "    return np.dot(xi,xj)\n",
    "\n",
    "def f_dual(xx):\n",
    "    result = alphas[0]*y[25]*(X[25][0]*xx[0]+X[25][1]*xx[1])+\\\n",
    "    alphas[1]*y[49]*(X[49][0]*xx[0]+X[49][1]*xx[1])+\\\n",
    "    alphas[1]*y[68]*(X[68][0]*xx[0]+X[68][1]*xx[1])+w0[0]\n",
    "    if result >0:\n",
    "        return 1\n",
    "    else:\n",
    "        return 0\n",
    "    \n",
    "    \n",
    "    \n",
    "    return result\n",
    "##your code\n",
    "\n",
    "# write the code to predict (3.0, 1.5)^T and (1.2, 3.0)^T here"
   ]
  },
  {
   "cell_type": "code",
   "execution_count": 235,
   "metadata": {},
   "outputs": [
    {
     "data": {
      "text/plain": [
       "1"
      ]
     },
     "execution_count": 235,
     "metadata": {},
     "output_type": "execute_result"
    }
   ],
   "source": [
    "f_dual((3.0,1.5))"
   ]
  },
  {
   "cell_type": "code",
   "execution_count": 236,
   "metadata": {},
   "outputs": [
    {
     "name": "stdout",
     "output_type": "stream",
     "text": [
      "-1\n"
     ]
    }
   ],
   "source": [
    "f_dual((1.2,3.0))"
   ]
  },
  {
   "cell_type": "markdown",
   "metadata": {},
   "source": [
    "# Experiment on your own\n",
    "Do not turn in this part.  You can try to solve the soft margin case and add different kernels"
   ]
  },
  {
   "cell_type": "code",
   "execution_count": null,
   "metadata": {},
   "outputs": [],
   "source": []
  },
  {
   "cell_type": "code",
   "execution_count": null,
   "metadata": {},
   "outputs": [],
   "source": []
  }
 ],
 "metadata": {
  "kernelspec": {
   "display_name": "Python 3",
   "language": "python",
   "name": "python3"
  },
  "language_info": {
   "codemirror_mode": {
    "name": "ipython",
    "version": 3
   },
   "file_extension": ".py",
   "mimetype": "text/x-python",
   "name": "python",
   "nbconvert_exporter": "python",
   "pygments_lexer": "ipython3",
   "version": "3.7.7"
  }
 },
 "nbformat": 4,
 "nbformat_minor": 2
}
